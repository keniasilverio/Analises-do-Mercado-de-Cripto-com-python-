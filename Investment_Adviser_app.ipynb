{
  "nbformat": 4,
  "nbformat_minor": 0,
  "metadata": {
    "colab": {
      "provenance": [],
      "authorship_tag": "ABX9TyNRugQlr/qt5KXbYIYEtlGJ",
      "include_colab_link": true
    },
    "kernelspec": {
      "name": "python3",
      "display_name": "Python 3"
    },
    "language_info": {
      "name": "python"
    }
  },
  "cells": [
    {
      "cell_type": "markdown",
      "metadata": {
        "id": "view-in-github",
        "colab_type": "text"
      },
      "source": [
        "<a href=\"https://colab.research.google.com/github/keniasilverio/Analises-do-Mercado-de-Cripto-com-python-/blob/main/Investment_Adviser_app.ipynb\" target=\"_parent\"><img src=\"https://colab.research.google.com/assets/colab-badge.svg\" alt=\"Open In Colab\"/></a>"
      ]
    },
    {
      "cell_type": "code",
      "execution_count": null,
      "metadata": {
        "id": "WhfzTQZjsRp9"
      },
      "outputs": [],
      "source": []
    },
    {
      "cell_type": "markdown",
      "source": [
        "First, install any necessary packages that are not already included in your Google Colab environment. For example, you may need to install packages such as pandas, numpy, and openpyxl for data manipulation and writing to Excel files, and packages such as matplotlib and seaborn for visualization. You can use pip or conda to install these packages as needed.\n",
        "\n",
        "Next, define the questions for the investor profile questionnaire. These questions could include items such as the person's age, income, risk tolerance, investment goals, and time horizon for investment. You can store these questions in a list or dictionary for easy access.\n",
        "\n",
        "Create a function that prompts the user to answer each question in the questionnaire, using the input() function to collect their responses. You can store the responses in a dictionary or list for easy manipulation later on.\n",
        "\n",
        "Write the questionnaire responses to an Excel file using a package such as pandas or openpyxl. You can create a new Excel file or append the responses to an existing file if desired.\n",
        "\n",
        "Based on the questionnaire responses, use if/else or switch/case statements to generate random answers for each question, representing an investment profile for a woman from the middle class.\n",
        "\n",
        "Use the investment profile to generate an ideal portfolio using a package such as PyPortfolioOpt or Markowitz optimization. You can use historical financial data and asset allocation strategies to generate the portfolio, based on the investor's risk tolerance, expected returns, and other criteria.\n",
        "\n",
        "Visualize the ideal portfolio using a package such as matplotlib or seaborn. You can create a pie chart, bar chart, or other visualization to show the asset allocation and returns for the portfolio."
      ],
      "metadata": {
        "id": "uC8ZLBfLsT1F"
      }
    },
    {
      "cell_type": "code",
      "source": [
        "# Step 1: Install any necessary packages\n",
        "!pip install pandas numpy openpyxl matplotlib seaborn PyPortfolioOpt"
      ],
      "metadata": {
        "colab": {
          "base_uri": "https://localhost:8080/"
        },
        "id": "MnYtZLtVsomT",
        "outputId": "b91b9d9a-727d-4c58-e019-427a6314217e"
      },
      "execution_count": 1,
      "outputs": [
        {
          "output_type": "stream",
          "name": "stdout",
          "text": [
            "Looking in indexes: https://pypi.org/simple, https://us-python.pkg.dev/colab-wheels/public/simple/\n",
            "Requirement already satisfied: pandas in /usr/local/lib/python3.9/dist-packages (1.4.4)\n",
            "Requirement already satisfied: numpy in /usr/local/lib/python3.9/dist-packages (1.22.4)\n",
            "Requirement already satisfied: openpyxl in /usr/local/lib/python3.9/dist-packages (3.0.10)\n",
            "Requirement already satisfied: matplotlib in /usr/local/lib/python3.9/dist-packages (3.7.1)\n",
            "Requirement already satisfied: seaborn in /usr/local/lib/python3.9/dist-packages (0.12.2)\n",
            "Collecting PyPortfolioOpt\n",
            "  Downloading pyportfolioopt-1.5.4-py3-none-any.whl (61 kB)\n",
            "\u001b[2K     \u001b[90m━━━━━━━━━━━━━━━━━━━━━━━━━━━━━━━━━━━━━━━━\u001b[0m \u001b[32m61.9/61.9 KB\u001b[0m \u001b[31m1.4 MB/s\u001b[0m eta \u001b[36m0:00:00\u001b[0m\n",
            "\u001b[?25hRequirement already satisfied: pytz>=2020.1 in /usr/local/lib/python3.9/dist-packages (from pandas) (2022.7.1)\n",
            "Requirement already satisfied: python-dateutil>=2.8.1 in /usr/local/lib/python3.9/dist-packages (from pandas) (2.8.2)\n",
            "Requirement already satisfied: et-xmlfile in /usr/local/lib/python3.9/dist-packages (from openpyxl) (1.1.0)\n",
            "Requirement already satisfied: cycler>=0.10 in /usr/local/lib/python3.9/dist-packages (from matplotlib) (0.11.0)\n",
            "Requirement already satisfied: pillow>=6.2.0 in /usr/local/lib/python3.9/dist-packages (from matplotlib) (8.4.0)\n",
            "Requirement already satisfied: pyparsing>=2.3.1 in /usr/local/lib/python3.9/dist-packages (from matplotlib) (3.0.9)\n",
            "Requirement already satisfied: contourpy>=1.0.1 in /usr/local/lib/python3.9/dist-packages (from matplotlib) (1.0.7)\n",
            "Requirement already satisfied: fonttools>=4.22.0 in /usr/local/lib/python3.9/dist-packages (from matplotlib) (4.39.3)\n",
            "Requirement already satisfied: packaging>=20.0 in /usr/local/lib/python3.9/dist-packages (from matplotlib) (23.0)\n",
            "Requirement already satisfied: kiwisolver>=1.0.1 in /usr/local/lib/python3.9/dist-packages (from matplotlib) (1.4.4)\n",
            "Requirement already satisfied: importlib-resources>=3.2.0 in /usr/local/lib/python3.9/dist-packages (from matplotlib) (5.12.0)\n",
            "Requirement already satisfied: cvxpy<2.0.0,>=1.1.10 in /usr/local/lib/python3.9/dist-packages (from PyPortfolioOpt) (1.3.1)\n",
            "Requirement already satisfied: scipy<2.0,>=1.3 in /usr/local/lib/python3.9/dist-packages (from PyPortfolioOpt) (1.10.1)\n",
            "Requirement already satisfied: setuptools>65.5.1 in /usr/local/lib/python3.9/dist-packages (from cvxpy<2.0.0,>=1.1.10->PyPortfolioOpt) (67.6.1)\n",
            "Requirement already satisfied: scs>=1.1.6 in /usr/local/lib/python3.9/dist-packages (from cvxpy<2.0.0,>=1.1.10->PyPortfolioOpt) (3.2.2)\n",
            "Requirement already satisfied: ecos>=2 in /usr/local/lib/python3.9/dist-packages (from cvxpy<2.0.0,>=1.1.10->PyPortfolioOpt) (2.0.12)\n",
            "Requirement already satisfied: osqp>=0.4.1 in /usr/local/lib/python3.9/dist-packages (from cvxpy<2.0.0,>=1.1.10->PyPortfolioOpt) (0.6.2.post0)\n",
            "Requirement already satisfied: zipp>=3.1.0 in /usr/local/lib/python3.9/dist-packages (from importlib-resources>=3.2.0->matplotlib) (3.15.0)\n",
            "Requirement already satisfied: six>=1.5 in /usr/local/lib/python3.9/dist-packages (from python-dateutil>=2.8.1->pandas) (1.16.0)\n",
            "Requirement already satisfied: qdldl in /usr/local/lib/python3.9/dist-packages (from osqp>=0.4.1->cvxpy<2.0.0,>=1.1.10->PyPortfolioOpt) (0.1.5.post3)\n",
            "Installing collected packages: PyPortfolioOpt\n",
            "Successfully installed PyPortfolioOpt-1.5.4\n"
          ]
        }
      ]
    },
    {
      "cell_type": "code",
      "source": [
        "# Step 2: Define the investor profile questionnaire\n",
        "questions = {\n",
        "    'age': 'What is your age?',\n",
        "    'income': 'What is your annual income?',\n",
        "    'risk_tolerance': 'On a scale of 1-5, how risk tolerant are you?',\n",
        "    'investment_goals': 'What are your investment goals?',\n",
        "    'time_horizon': 'What is your time horizon for investment (in years)?'\n",
        "}"
      ],
      "metadata": {
        "id": "e0e7Ba1aswB0"
      },
      "execution_count": 2,
      "outputs": []
    },
    {
      "cell_type": "code",
      "source": [
        "# Step 2: Define the investor profile questionnaire\n",
        "questions = {\n",
        "    'age': 'What is your age?',\n",
        "    'income': 'What is your annual income?',\n",
        "    'risk_tolerance': 'On a scale of 1-5, how risk tolerant are you?',\n",
        "    'investment_goals': 'What are your investment goals?',\n",
        "    'time_horizon': 'What is your time horizon for investment (in years)?'\n",
        "}"
      ],
      "metadata": {
        "id": "qTlEkz61s1U1"
      },
      "execution_count": 3,
      "outputs": []
    },
    {
      "cell_type": "code",
      "source": [
        "# Step 3: Create a function to prompt the user for questionnaire responses\n",
        "def get_questionnaire_responses():\n",
        "    responses = {}\n",
        "    for key, value in questions.items():\n",
        "        response = input(value + ' ')\n",
        "        responses[key] = response\n",
        "    return responses"
      ],
      "metadata": {
        "id": "VE10m-TXs6J8"
      },
      "execution_count": 4,
      "outputs": []
    },
    {
      "cell_type": "code",
      "source": [
        "# Step 4: Write the questionnaire responses to an Excel file\n",
        "import pandas as pd\n",
        "\n",
        "responses = get_questionnaire_responses()\n",
        "df = pd.DataFrame(responses, index=[0])\n",
        "df.to_excel('responses.xlsx', index=False)"
      ],
      "metadata": {
        "colab": {
          "base_uri": "https://localhost:8080/"
        },
        "id": "QaiF1IIhs_yR",
        "outputId": "6a8c404d-cf8d-46ce-b785-ebf62ae7e5bf"
      },
      "execution_count": 5,
      "outputs": [
        {
          "name": "stdout",
          "output_type": "stream",
          "text": [
            "What is your age? 30\n",
            "What is your annual income? 30000\n",
            "On a scale of 1-5, how risk tolerant are you? 4\n",
            "What are your investment goals? passive income\n",
            "What is your time horizon for investment (in years)? 5\n"
          ]
        }
      ]
    },
    {
      "cell_type": "code",
      "source": [
        "\n",
        "# Step 5: Generate random answers for the investment profile\n",
        "import random\n",
        "\n",
        "age = int(responses['age'])\n",
        "income = int(responses['income'])\n",
        "risk_tolerance = int(responses['risk_tolerance'])\n",
        "\n",
        "if age <= 40 and income >= 50000 and risk_tolerance >= 3:\n",
        "    investment_profile = 'Aggressive'\n",
        "elif age <= 50 and income >= 40000 and risk_tolerance >= 2:\n",
        "    investment_profile = 'Moderate'\n",
        "else:\n",
        "    investment_profile = 'Conservative'"
      ],
      "metadata": {
        "id": "OP_qJZzrtDi4"
      },
      "execution_count": 6,
      "outputs": []
    },
    {
      "cell_type": "code",
      "source": [
        "\n",
        "# Step 6: Generate the ideal portfolio based on the investment profile\n",
        "from pypfopt import expected_returns, risk_models, EfficientFrontier\n",
        "from pypfopt.discrete_allocation import DiscreteAllocation\n",
        "\n",
        "# Read in historical financial data for a set of assets (e.g., stocks, bonds, etc.)\n",
        "# Use the expected returns and risk models to generate an optimal portfolio\n"
      ],
      "metadata": {
        "id": "4rMQgxmrsXpF"
      },
      "execution_count": 7,
      "outputs": []
    },
    {
      "cell_type": "markdown",
      "source": [
        "Defining a ideal investment profile"
      ],
      "metadata": {
        "id": "IqSj9jMNuMci"
      }
    },
    {
      "cell_type": "code",
      "source": [
        "import pandas as pd\n",
        "import numpy as np\n",
        "import matplotlib.pyplot as plt\n",
        "\n",
        "# Define the investment profile\n",
        "investment_profile = {'Age': 30, 'Income': 5000, 'Risk Tolerance': 'Medium', 'Investment Goals': ['Retirement', 'Education']}\n",
        "\n",
        "# Define the asset classes and their corresponding weights\n",
        "asset_classes = ['Equities', 'Fixed Income', 'Real Estate', 'Commodities']\n",
        "asset_weights = {'Aggressive': [0.6, 0.2, 0.1, 0.1],\n",
        "                 'Moderate': [0.4, 0.3, 0.2, 0.1],\n",
        "                 'Conservative': [0.2, 0.5, 0.2, 0.1]}\n",
        "\n",
        "# Determine the asset class weights based on the investment profile\n",
        "if investment_profile['Risk Tolerance'] == 'Aggressive':\n",
        "  asset_class_weights = asset_weights['Aggressive']\n",
        "elif investment_profile['Risk Tolerance'] == 'Moderate':\n",
        "  asset_class_weights = asset_weights['Moderate']\n",
        "else:\n",
        "  asset_class_weights = asset_weights['Conservative']\n",
        "\n",
        "# Calculate the asset class allocation based on the investment amount\n",
        "investment_amount = 100000\n",
        "asset_allocations = [investment_amount * weight for weight in asset_class_weights]\n",
        "\n",
        "# Create a DataFrame of the asset class allocations\n",
        "df_allocations = pd.DataFrame({'Asset Class': asset_classes, 'Allocation': asset_allocations})\n",
        "\n",
        "# Display the DataFrame\n",
        "print(df_allocations)\n",
        "\n",
        "# Create a pie chart of the asset class allocations\n",
        "fig, ax = plt.subplots()\n",
        "ax.pie(df_allocations['Allocation'], labels=df_allocations['Asset Class'], autopct='%1.1f%%')\n",
        "ax.set_title('Ideal Portfolio')\n",
        "plt.show()\n"
      ],
      "metadata": {
        "colab": {
          "base_uri": "https://localhost:8080/",
          "height": 515
        },
        "id": "hJ1qCjh1uJ1c",
        "outputId": "9e2769ab-0e89-4939-c539-60e28d75b6c8"
      },
      "execution_count": 8,
      "outputs": [
        {
          "output_type": "stream",
          "name": "stdout",
          "text": [
            "    Asset Class  Allocation\n",
            "0      Equities     20000.0\n",
            "1  Fixed Income     50000.0\n",
            "2   Real Estate     20000.0\n",
            "3   Commodities     10000.0\n"
          ]
        },
        {
          "output_type": "display_data",
          "data": {
            "text/plain": [
              "<Figure size 640x480 with 1 Axes>"
            ],
            "image/png": "[encoded data removed]"
          },
          "metadata": {}
        }
      ]
    }
  ]
}